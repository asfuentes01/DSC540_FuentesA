{
 "cells": [
  {
   "cell_type": "markdown",
   "metadata": {},
   "source": [
    "# DSC540\n",
    "# Week 9 & 10 Exercises \n",
    "## Astrid Fuentes\n",
    "## 21-Feb-2021"
   ]
  },
  {
   "cell_type": "markdown",
   "metadata": {},
   "source": [
    "# Lesson 7 Activity 1: Top 100 ebooks' name extraction from Gutenberg.org\n",
    "# Page 294 (Activity 9)\n",
    "## What is Project Gutenberg? - \n",
    "Project Gutenberg is a volunteer effort to digitize and archive cultural works, to \"encourage the creation and distribution of eBooks\". It was founded in 1971 by American writer Michael S. Hart and is the **oldest digital library.** This longest-established ebook project releases books that entered the public domain, and can be freely read or downloaded in various electronic formats.\n",
    "\n",
    "## What is this activity all about?\n",
    "* **This activity aims to scrape the url of the Project Gutenberg's Top 100 ebooks (yesterday's ranking) for identifying the ebook links. **\n",
    "* **It uses BeautifulSoup4 for parsing the HTML and regular expression code for identifying the Top 100 ebook file numbers.**\n",
    "* **You can use those book ID numbers to download the book into your local drive if you want**"
   ]
  },
  {
   "cell_type": "markdown",
   "metadata": {},
   "source": [
    "### 1. Import the necessary libraries, including regex and beautifulsoup."
   ]
  },
  {
   "cell_type": "code",
   "execution_count": 1,
   "metadata": {},
   "outputs": [],
   "source": [
    "# Import libraries urllib, requests, BeautifulSoup, ssl, and re\n",
    "import urllib.request, urllib.parse, urllib.error\n",
    "import requests\n",
    "from bs4 import BeautifulSoup\n",
    "import ssl\n",
    "import re"
   ]
  },
  {
   "cell_type": "markdown",
   "metadata": {},
   "source": [
    "### 2. Check the SSL certificate."
   ]
  },
  {
   "cell_type": "code",
   "execution_count": 2,
   "metadata": {},
   "outputs": [],
   "source": [
    "# Ignore SSL certificate errors\n",
    "ctx = ssl.create_default_context()\n",
    "ctx.check_hostname = False\n",
    "ctx.verify_mode = ssl.CERT_NONE"
   ]
  },
  {
   "cell_type": "markdown",
   "metadata": {},
   "source": [
    "### 3. Read the HTML from the URL."
   ]
  },
  {
   "cell_type": "code",
   "execution_count": 3,
   "metadata": {},
   "outputs": [],
   "source": [
    "# Read the HTML from the URL and pass on save the request in response variable\n",
    "top100url = 'https://www.gutenberg.org/browse/scores/top'\n",
    "response = requests.get(top100url)"
   ]
  },
  {
   "cell_type": "markdown",
   "metadata": {},
   "source": [
    "### 4. Write a small function to check the status of the web request."
   ]
  },
  {
   "cell_type": "code",
   "execution_count": 4,
   "metadata": {},
   "outputs": [],
   "source": [
    "# Define function status_check() to check the status of the web### 3. Read the HTML from the URL request\n",
    "def status_check(r):\n",
    "    if r.status_code==200:\n",
    "        print(\"Success!\")\n",
    "        return 1\n",
    "    else:\n",
    "        print(\"Failed!\")\n",
    "        return -1"
   ]
  },
  {
   "cell_type": "code",
   "execution_count": 5,
   "metadata": {
    "scrolled": true
   },
   "outputs": [
    {
     "name": "stdout",
     "output_type": "stream",
     "text": [
      "Success!\n"
     ]
    },
    {
     "data": {
      "text/plain": [
       "1"
      ]
     },
     "execution_count": 5,
     "metadata": {},
     "output_type": "execute_result"
    }
   ],
   "source": [
    "# Apply the status_check function on our request. Succesful status is expected.\n",
    "status_check(response)"
   ]
  },
  {
   "cell_type": "markdown",
   "metadata": {},
   "source": [
    "### 5. Decode the response and pass this on to BeautifulSoup for HTML parsing."
   ]
  },
  {
   "cell_type": "code",
   "execution_count": 6,
   "metadata": {},
   "outputs": [],
   "source": [
    "# Decode the contents of the web response and save in contents variable\n",
    "contents = response.content.decode(response.encoding)"
   ]
  },
  {
   "cell_type": "code",
   "execution_count": 7,
   "metadata": {},
   "outputs": [],
   "source": [
    "# Parse the decoded contents through BeautifulSoup and save in soup variable\n",
    "soup = BeautifulSoup(contents, 'html.parser')"
   ]
  },
  {
   "cell_type": "markdown",
   "metadata": {},
   "source": [
    "### 6. Find all the href tags and store them in the list of links. Check what the list looks like - print the first 30 elements."
   ]
  },
  {
   "cell_type": "code",
   "execution_count": 8,
   "metadata": {},
   "outputs": [],
   "source": [
    "# Create empty list lst_links to hold the http links from the main page\n",
    "lst_links=[]"
   ]
  },
  {
   "cell_type": "code",
   "execution_count": 9,
   "metadata": {},
   "outputs": [],
   "source": [
    "# Find all the href tags and store them in the list of links\n",
    "for link in soup.find_all('a'):\n",
    "    #print(link.get('href'))\n",
    "    lst_links.append(link.get('href'))"
   ]
  },
  {
   "cell_type": "code",
   "execution_count": 10,
   "metadata": {},
   "outputs": [
    {
     "data": {
      "text/plain": [
       "['/',\n",
       " '/about/',\n",
       " '/about/',\n",
       " '/policy/collection_development.html',\n",
       " '/about/contact_information.html',\n",
       " '/about/background/',\n",
       " '/policy/permission.html',\n",
       " '/policy/privacy_policy.html',\n",
       " '/policy/terms_of_use.html',\n",
       " '/ebooks/',\n",
       " '/ebooks/',\n",
       " '/ebooks/bookshelf/',\n",
       " '/browse/scores/top',\n",
       " '/ebooks/offline_catalogs.html',\n",
       " '/help/',\n",
       " '/help/',\n",
       " '/help/copyright.html',\n",
       " '/help/errata.html',\n",
       " '/help/file_formats.html',\n",
       " '/help/faq.html',\n",
       " '/policy/',\n",
       " '/help/public_domain_ebook_submission.html',\n",
       " '/help/submitting_your_own_work.html',\n",
       " '/help/mobile.html',\n",
       " '/attic/',\n",
       " '/donate/',\n",
       " '/donate/',\n",
       " '#books-last1',\n",
       " '#authors-last1',\n",
       " '#books-last7']"
      ]
     },
     "execution_count": 10,
     "metadata": {},
     "output_type": "execute_result"
    }
   ],
   "source": [
    "# Print the first 30 elements of the list of links\n",
    "lst_links[:30]"
   ]
  },
  {
   "cell_type": "markdown",
   "metadata": {},
   "source": [
    "### 7. Use regular expression to find the numeric digits in these links. These are the file number for the Top 100 eBooks.\n",
    "### and\n",
    "### 8. Initialize the empty list to hold the file numbers over an appropriate range and use regex to find the numeric digits in the link href string. Use the findall method."
   ]
  },
  {
   "cell_type": "code",
   "execution_count": 11,
   "metadata": {},
   "outputs": [],
   "source": [
    "# Create an empty list booknum to hold the file numbers\n",
    "booknum=[]"
   ]
  },
  {
   "cell_type": "code",
   "execution_count": 12,
   "metadata": {},
   "outputs": [],
   "source": [
    "# Number 19 to 118 in the original list of links have the Top 100 ebooks' number.\n",
    "# Loop over appropriate range and use regex to find the numeric digits in the link (href) string.\n",
    "for i in range(19,119):\n",
    "    link=lst_links[i]\n",
    "    link=link.strip()\n",
    "    # Regular expression to find the numeric digits in the link (href) string\n",
    "    n=re.findall('[0-9]+',link)\n",
    "    if len(n)==1:\n",
    "        # Append the filenumber casted as integer\n",
    "        booknum.append(int(n[0]))"
   ]
  },
  {
   "cell_type": "code",
   "execution_count": 13,
   "metadata": {},
   "outputs": [
    {
     "name": "stdout",
     "output_type": "stream",
     "text": [
      "\n",
      "The file numbers for the top 100 ebooks on Gutenberg are shown below\n",
      "----------------------------------------------------------------------\n",
      "[1, 1, 7, 7, 30, 30, 1342, 84, 11, 1661, 2701, 98, 64596, 1080, 5200, 174, 1260, 1952, 844, 76, 64595, 25344, 57775, 46, 1497, 64317, 219, 345, 43, 2542, 1232, 160, 4300, 408, 6133, 74, 16, 64592, 2591, 2600, 1400, 16328, 1184, 55, 514, 2852, 3207, 205, 996, 42108, 135, 158, 58585, 36, 1250, 120, 768, 1998, 23, 5740, 45, 6130, 43453, 2814, 2554, 244, 64594, 19942, 829, 25929, 215, 203, 3600, 766, 1001, 1727, 902, 863, 64599, 30254, 32415, 27559, 7370, 3825, 105, 140, 730, 209, 113, 35, 20203, 972]\n"
     ]
    }
   ],
   "source": [
    "# Print the file numbers\n",
    "print (\"\\nThe file numbers for the top 100 ebooks on Gutenberg are shown below\\n\"+\"-\"*70)\n",
    "print(booknum)"
   ]
  },
  {
   "cell_type": "markdown",
   "metadata": {},
   "source": [
    "### 9. What does the `soup` object's text look like? Use `.text()` method and print only first 2000 characters (i.e. do not print the whole thing, it is long).\n",
    "\n",
    "You will notice lot of empty spaces/blanks here and there. Ignore them. They are part of HTML page markup and its whimsical nature!"
   ]
  },
  {
   "cell_type": "code",
   "execution_count": 14,
   "metadata": {
    "scrolled": false
   },
   "outputs": [
    {
     "name": "stdout",
     "output_type": "stream",
     "text": [
      "\n",
      "\n",
      "\n",
      "\n",
      "Top 100 | Project Gutenberg\n",
      "\n",
      "\n",
      "\n",
      "\n",
      "\n",
      "\n",
      "\n",
      "\n",
      "\n",
      "\n",
      "\n",
      "\n",
      "\n",
      "\n",
      "\n",
      "\n",
      "\n",
      "\n",
      "\n",
      "\n",
      "\n",
      "\n",
      "\n",
      "\n",
      "\n",
      "\n",
      "\n",
      "Menu▾\n",
      "\n",
      "\n",
      "\n",
      "About\n",
      "          ▾\n",
      "\n",
      "▾\n",
      "\n",
      "\n",
      "About Project Gutenberg\n",
      "Collection Development\n",
      "Contact Us\n",
      "History & Philosophy\n",
      "Permissions & License\n",
      "Privacy Policy\n",
      "Terms of Use\n",
      "\n",
      "\n",
      "\n",
      "Search and Browse\n",
      "      \t  ▾\n",
      "\n",
      "▾\n",
      "\n",
      "\n",
      "Book Search\n",
      "Bookshelves\n",
      "Frequently Downloaded\n",
      "Offline Catalogs\n",
      "\n",
      "\n",
      "\n",
      "Help\n",
      "          ▾\n",
      "\n",
      "▾\n",
      "\n",
      "\n",
      "All help topics →\n",
      "Copyright Procedures\n",
      "Errata, Fixes and Bug Reports\n",
      "File Formats\n",
      "Frequently Asked Questions\n",
      "Policies →\n",
      "Public Domain eBook Submission\n",
      "Submitting Your Own Work\n",
      "Tablets, Phones and eReaders\n",
      "The Attic →\n",
      "\n",
      "\n",
      "Donate\n",
      "\n",
      "\n",
      "\n",
      "\n",
      "\n",
      "\n",
      "\n",
      "\n",
      "\n",
      "\n",
      "Donation\n",
      "\n",
      "\n",
      "\n",
      "\n",
      "\n",
      "\n",
      "\n",
      "Frequently Viewed or Downloaded\n",
      "These listings are based on the number of times each eBook gets downloaded.\n",
      "      Multiple downloads from the same Internet address on the same day count as one download, and addresses that download more than 100 eBooks in a day are considered robots and are not counted.\n",
      "\n",
      "Downloaded Books\n",
      "2021-02-20178820\n",
      "last 7 days1394510\n",
      "last 30 days5788321\n",
      "\n",
      "\n",
      "\n",
      "Top 100 EBooks yesterday\n",
      "Top 100 Authors yesterday\n",
      "Top 100 EBooks last 7 days\n",
      "Top 100 Authors last 7 days\n",
      "Top 100 EBooks last 30 days\n",
      "Top 100 Authors last 30 days\n",
      "\n",
      "\n",
      "Top 100 EBooks yesterday\n",
      "\n",
      "Pride and Prejudice by Jane Austen (1537)\n",
      "Frankenstein; Or, The Modern Prometheus by Mary Wollstonecraft Shelley (1423)\n",
      "Alice's Adventures in Wonderland by Lewis Carroll (909)\n",
      "The Adventures of Sherlock Holmes by Arthur Conan Doyle (671)\n",
      "Moby Dick; Or, The Whale by Herman Melville (666)\n",
      "A Tale of Two Cities by Charles Dickens (658)\n",
      "The Star Beast by Damon Knight (633)\n",
      "A Modest Proposal by Jonathan Swift (620)\n",
      "Metamorphosis by Franz Kafka (565)\n",
      "The Picture of Dorian Gray by Oscar Wilde (487)\n",
      "Jane Eyre: An Autobiography by Charlotte Brontë (477)\n",
      "The Yellow Wallpaper by Charlotte Perkins Gilman (471)\n",
      "The Importance of Being Earnest: A Trivial Comedy for Serious People by Oscar Wilde (437)\n",
      "Adventures of Huckleberry Finn by Mark Twain (435)\n",
      "Animat by Basil Wells (409)\n",
      "The Scarlet Letter by Nathaniel Hawthorne (407)\n",
      "Le jardin\n"
     ]
    }
   ],
   "source": [
    "# Print first 2000 characters of soup\n",
    "print(soup.text[:2000])"
   ]
  },
  {
   "cell_type": "markdown",
   "metadata": {},
   "source": [
    "### 10. Search in the extracted text (using regular expression) from the `soup` object to find the names of top 100 Ebooks (Yesterday's rank)"
   ]
  },
  {
   "cell_type": "code",
   "execution_count": 15,
   "metadata": {},
   "outputs": [],
   "source": [
    "# Create an empty list of Ebook names\n",
    "lst_titles_temp=[]"
   ]
  },
  {
   "cell_type": "markdown",
   "metadata": {},
   "source": [
    "### 11. Create a starting index. It should point at the text _\"Top 100 Ebooks yesterday\"_. Hint: Use `splitlines()` method of the `soup.text`. It splits the lines of the text of the `soup` object."
   ]
  },
  {
   "cell_type": "code",
   "execution_count": 16,
   "metadata": {},
   "outputs": [],
   "source": [
    "# start_idx using splitlines()\n",
    "start_idx=soup.text.splitlines().index('Top 100 EBooks yesterday')"
   ]
  },
  {
   "cell_type": "markdown",
   "metadata": {},
   "source": [
    "### 12. Loop 1-100 to add the strings of next 100 lines to this temporary list. Hint: `splitlines()` method"
   ]
  },
  {
   "cell_type": "code",
   "execution_count": 17,
   "metadata": {},
   "outputs": [],
   "source": [
    "# For loop to insert the start_idx index in the list of books\n",
    "for i in range(100):\n",
    "    lst_titles_temp.append(soup.text.splitlines()[start_idx+2+i])"
   ]
  },
  {
   "cell_type": "markdown",
   "metadata": {},
   "source": [
    "### 13. Use regular expression to extract only text from the name strings and append to an empty list. Hint: Use `match` and `span` to find indices and use them"
   ]
  },
  {
   "cell_type": "code",
   "execution_count": 18,
   "metadata": {},
   "outputs": [],
   "source": [
    "# Create empty list and use For look to extract the text of the name strings and fill in the list.\n",
    "lst_titles=[]\n",
    "for i in range(100):\n",
    "    id1,id2=re.match('^[a-zA-Z ]*',lst_titles_temp[i]).span()\n",
    "    lst_titles.append(lst_titles_temp[i][id1:id2])"
   ]
  },
  {
   "cell_type": "code",
   "execution_count": 19,
   "metadata": {
    "scrolled": true
   },
   "outputs": [
    {
     "name": "stdout",
     "output_type": "stream",
     "text": [
      "Top \n",
      "Top \n",
      "Top \n",
      "Top \n",
      "\n",
      "\n",
      "Top \n",
      "\n",
      "Pride and Prejudice by Jane Austen \n",
      "Frankenstein\n",
      "Alice\n",
      "The Adventures of Sherlock Holmes by Arthur Conan Doyle \n",
      "Moby Dick\n",
      "A Tale of Two Cities by Charles Dickens \n",
      "The Star Beast by Damon Knight \n",
      "A Modest Proposal by Jonathan Swift \n",
      "Metamorphosis by Franz Kafka \n",
      "The Picture of Dorian Gray by Oscar Wilde \n",
      "Jane Eyre\n",
      "The Yellow Wallpaper by Charlotte Perkins Gilman \n",
      "The Importance of Being Earnest\n",
      "Adventures of Huckleberry Finn by Mark Twain \n",
      "Animat by Basil Wells \n",
      "The Scarlet Letter by Nathaniel Hawthorne \n",
      "Le jardin des supplices by Octave Mirbeau \n",
      "A Christmas Carol in Prose\n",
      "The Republic by Plato \n",
      "The Great Gatsby by F\n",
      "Heart of Darkness by Joseph Conrad \n",
      "Dracula by Bram Stoker \n",
      "The Strange Case of Dr\n",
      "Et dukkehjem\n",
      "Il Principe\n",
      "The Awakening\n",
      "Ulysses by James Joyce \n",
      "The Souls of Black Folk by W\n",
      "Ars\n",
      "The Adventures of Tom Sawyer\n",
      "Peter Pan by J\n",
      "Harper\n",
      "Grimms\n",
      "War and Peace by graf Leo Tolstoy \n",
      "Great Expectations by Charles Dickens \n",
      "Beowulf\n",
      "The Count of Monte Cristo\n",
      "The Wonderful Wizard of Oz by L\n",
      "Little Women by Louisa May Alcott \n",
      "The Hound of the Baskervilles by Arthur Conan Doyle \n",
      "Leviathan by Thomas Hobbes \n",
      "Walden\n",
      "Don Quixote by Miguel de Cervantes Saavedra \n",
      "The Slang Dictionary\n",
      "Les Mis\n",
      "Emma by Jane Austen \n",
      "The Prophet by Kahlil Gibran \n",
      "The War of the Worlds by H\n",
      "Anthem by Ayn Rand \n",
      "Treasure Island by Robert Louis Stevenson \n",
      "Wuthering Heights by Emily Bront\n",
      "Also sprach Zarathustra\n",
      "Narrative of the Life of Frederick Douglass\n",
      "Tractatus Logico\n",
      "Anne of Green Gables by L\n",
      "The Iliad by Homer \n",
      "A Pickle for the Knowing Ones by Timothy Dexter \n",
      "Dubliners by James Joyce \n",
      "Prestuplenie i nakazanie\n",
      "A Study in Scarlet by Arthur Conan Doyle \n",
      "The Death of the Scharnhorst and other Poems by Arch Alfred McKillen \n",
      "Candide by Voltaire \n",
      "Gulliver\n",
      "Daemonologie\n",
      "The Call of the Wild by Jack London \n",
      "Uncle Tom\n",
      "Essays of Michel de Montaigne \n",
      "David Copperfield by Charles Dickens \n",
      "Divine Comedy\n",
      "The Odyssey by Homer \n",
      "The Happy Prince\n",
      "The Mysterious Affair at Styles by Agatha Christie \n",
      "The Princess Casamassima by Henry James \n",
      "The Romance of Lust\n",
      "The Nursery Rhymes of England \n",
      "The \n",
      "Second Treatise of Government by John Locke \n",
      "Pygmalion by Bernard Shaw \n",
      "Persuasion by Jane Austen \n",
      "The Jungle by Upton Sinclair \n",
      "Oliver Twist by Charles Dickens \n",
      "The Turn of the Screw by Henry James \n",
      "The Secret Garden by Frances Hodgson Burnett \n",
      "The Time Machine by H\n",
      "Autobiography of Benjamin Franklin by Benjamin Franklin \n",
      "The Devil\n",
      "The \n",
      "Beyond Good and Evil by Friedrich Wilhelm Nietzsche \n",
      "The Jungle Book by Rudyard Kipling \n",
      "Complete Original Short Stories of Guy De Maupassant by Guy de Maupassant \n",
      "An Index of The Divine Comedy by Dante by Dante Alighieri \n",
      "Common Sense by Thomas Paine \n"
     ]
    }
   ],
   "source": [
    "# Print the list that contains the titles of the to 100 eBooks from Gutenberg.\n",
    "for l in lst_titles:\n",
    "    print(l)"
   ]
  },
  {
   "cell_type": "markdown",
   "metadata": {},
   "source": [
    "# Lesson 7: Advanced web scraping and data gathering\n",
    "## Activity 2: Build your own movie database by reading from an API\n",
    "# Page 294 (Activity 10)\n",
    "### This notebook does the following\n",
    "* Retrieves and prints basic data about a movie (title entered by user) from the web (OMDB database)\n",
    "* If a poster of the movie could be found, it downloads the file and saves at a user-specified location"
   ]
  },
  {
   "cell_type": "markdown",
   "metadata": {},
   "source": [
    "### 1. Import urllib.requests, urllib.parse, urllib.error, and json."
   ]
  },
  {
   "cell_type": "code",
   "execution_count": 21,
   "metadata": {},
   "outputs": [],
   "source": [
    "# import libraries\n",
    "import urllib.request, urllib.parse, urllib.error\n",
    "import json"
   ]
  },
  {
   "cell_type": "markdown",
   "metadata": {},
   "source": [
    "### 2. Load the secret API key (you have to get one from OMDB website and use that, 1000 daily limit) from a JSON file, stored in the same folder into a variable\n",
    "Hint: Use **`json.loads()`**"
   ]
  },
  {
   "cell_type": "markdown",
   "metadata": {},
   "source": [
    "### 3. Obtain a key and store it in JSON as APIkeys.json"
   ]
  },
  {
   "cell_type": "code",
   "execution_count": 56,
   "metadata": {},
   "outputs": [],
   "source": [
    "# I obtained my API key from omdbapi.com and saved it a file named APIkeys.jason\n",
    "# The I change my working directory to where my APIkeys.json file is stored"
   ]
  },
  {
   "cell_type": "code",
   "execution_count": 55,
   "metadata": {},
   "outputs": [
    {
     "name": "stdout",
     "output_type": "stream",
     "text": [
      "/Users/astrid/Documents/GitHub/Data-Wrangling-with-Python/Lesson07/Activity10\n"
     ]
    }
   ],
   "source": [
    "cd '/Users/astrid/Documents/GitHub/Data-Wrangling-with-Python/Lesson07/Activity10'"
   ]
  },
  {
   "cell_type": "markdown",
   "metadata": {},
   "source": [
    "### 4. Open the APIkeys.json file"
   ]
  },
  {
   "cell_type": "code",
   "execution_count": 57,
   "metadata": {},
   "outputs": [],
   "source": [
    "# Open the file and load the API key\n",
    "with open('APIkeys.json') as f:\n",
    "    keys = json.load(f)\n",
    "    omdbapi = keys['OMDBapi']"
   ]
  },
  {
   "cell_type": "markdown",
   "metadata": {},
   "source": [
    "### 5. Assign the OMDB portal (http://www.omdbapi.com/?) as a string to a variable serviceurl"
   ]
  },
  {
   "cell_type": "code",
   "execution_count": 60,
   "metadata": {},
   "outputs": [],
   "source": [
    "# my sample URL: http://www.omdbapi.com/?t='Title'&apikey=b742e81f\n",
    "serviceurl = 'http://www.omdbapi.com/?'"
   ]
  },
  {
   "cell_type": "markdown",
   "metadata": {},
   "source": [
    "### 6. Create a variable `apikey` with the last portion of the URL (\"&apikey=secretapikey\"), where `secretapikey` is your own API key (an actual code)"
   ]
  },
  {
   "cell_type": "code",
   "execution_count": 59,
   "metadata": {},
   "outputs": [],
   "source": [
    "#My key=b742e81f saved in variable omdbapi\n",
    "apikey = '&apikey='+omdbapi"
   ]
  },
  {
   "cell_type": "markdown",
   "metadata": {},
   "source": [
    "### 7. Write a utility function `print_json` to print nicely the movie data from a JSON file (which we will get from the portal)\n",
    "Here are the keys of a JSON file,\n",
    "\n",
    "'Title', 'Year', 'Rated', 'Released', 'Runtime', 'Genre', 'Director', 'Writer', 'Actors', 'Plot', 'Language','Country', 'Awards', 'Ratings', 'Metascore', 'imdbRating', 'imdbVotes', 'imdbID'"
   ]
  },
  {
   "cell_type": "code",
   "execution_count": 61,
   "metadata": {},
   "outputs": [],
   "source": [
    "# Define function to obtain information from JSON from the portal. API documentation can help set this up.\n",
    "def print_json(json_data):\n",
    "    list_keys=['Title', 'Year', 'Rated', 'Released', 'Runtime', 'Genre', 'Director', 'Writer', \n",
    "               'Actors', 'Plot', 'Language', 'Country', 'Awards', 'Ratings', \n",
    "               'Metascore', 'imdbRating', 'imdbVotes', 'imdbID']\n",
    "    print(\"-\"*50)\n",
    "    for k in list_keys:\n",
    "        if k in list(json_data.keys()):\n",
    "            print(f\"{k}: {json_data[k]}\")\n",
    "    print(\"-\"*50)"
   ]
  },
  {
   "cell_type": "markdown",
   "metadata": {},
   "source": [
    "### 8.  Write a utility function to download a poster of the movie based on the information from the jason dataset and save in your local folder\n",
    "\n",
    "* Use `os` module\n",
    "* The poster data is stored in the JSON key 'Poster'\n",
    "* You may want to split the name of the Poster file and extract the file extension only. Let's say the extension is ***'jpg'***.\n",
    "* Then later join this extension to the movie name and create a filename like ***movie.jpg***\n",
    "* Use the Python command `open` to open a file and write the poster data. Close the file after done.\n",
    "* This function may not return anything. It just saves the poster data as an image file."
   ]
  },
  {
   "cell_type": "code",
   "execution_count": 62,
   "metadata": {},
   "outputs": [],
   "source": [
    "# Define save_poster function to obtain and save the poster for a movie.\n",
    "def save_poster(json_data):\n",
    "    import os\n",
    "    title = json_data['Title']\n",
    "    poster_url = json_data['Poster']\n",
    "    # Splits the poster url by '.' and picks up the last string as file extension\n",
    "    poster_file_extension=poster_url.split('.')[-1]\n",
    "    # Reads the image file from web\n",
    "    poster_data = urllib.request.urlopen(poster_url).read()\n",
    "        \n",
    "    savelocation=os.getcwd()+'\\\\'+'Posters'+'\\\\'\n",
    "    # Creates new directory if the directory does not exist. Otherwise, just use the existing path.\n",
    "    if not os.path.isdir(savelocation):\n",
    "        os.mkdir(savelocation)\n",
    "    \n",
    "    filename=savelocation+str(title)+'.'+poster_file_extension\n",
    "    f=open(filename,'wb')\n",
    "    f.write(poster_data)\n",
    "    f.close()"
   ]
  },
  {
   "cell_type": "markdown",
   "metadata": {},
   "source": [
    "### 9. Write a utility function `search_movie` to search a movie by its name, print the downloaded JSON data (use the `print_json` function for this) and save the movie poster in the local folder (use `save_poster` function for this)\n",
    "\n",
    "* Use `try-except` loop for this i.e. try to connect to the web portal, if successful proceed but if not (i.e. exception raised) then just print an error message\n",
    "* Here use the previously created variables `serviceurl` and `apikey`\n",
    "* You have to pass on a dictionary with a key `t` and the movie name as the corresponding value to `urllib.parse.urlencode()` function and then add the `serviceurl` and `apikey` to the output of the function to construct the full URL\n",
    "* This URL will be used for accessing the data\n",
    "* The JSON data has a key called `Response`. If it is `True`, that means the read was successful. Check this before processing the data. If not successful, then print the JSON key `Error`, which will contain the appropriate error message returned by the movie database."
   ]
  },
  {
   "cell_type": "code",
   "execution_count": 63,
   "metadata": {},
   "outputs": [],
   "source": [
    "# Define search_movie function to search for a movie by its name and print its information\n",
    "def search_movie(title):\n",
    "    try:\n",
    "        url = serviceurl + urllib.parse.urlencode({'t': str(title)})+apikey\n",
    "        print(f'Retrieving the data of \"{title}\" now... ')\n",
    "        print(url)\n",
    "        uh = urllib.request.urlopen(url)\n",
    "        data = uh.read()\n",
    "        json_data=json.loads(data)\n",
    "        \n",
    "        if json_data['Response']=='True':\n",
    "            print_json(json_data)\n",
    "            # Asks user whether to download the poster of the movie\n",
    "            if json_data['Poster']!='N/A':\n",
    "                save_poster(json_data)\n",
    "        else:\n",
    "            print(\"Error encountered: \",json_data['Error'])\n",
    "    \n",
    "    except urllib.error.URLError as e:\n",
    "        print(f\"ERROR: {e.reason}\")"
   ]
  },
  {
   "cell_type": "markdown",
   "metadata": {},
   "source": [
    "### 10. Test `search_movie` function by entering *Titanic*"
   ]
  },
  {
   "cell_type": "code",
   "execution_count": 67,
   "metadata": {},
   "outputs": [
    {
     "name": "stdout",
     "output_type": "stream",
     "text": [
      "Retrieving the data of \"'Titanic'\" now... \n",
      "http://www.omdbapi.com/?t=%27Titanic%27&apikey=b742e81f\n",
      "--------------------------------------------------\n",
      "Title: Titanic\n",
      "Year: 1997\n",
      "Rated: PG-13\n",
      "Released: 19 Dec 1997\n",
      "Runtime: 194 min\n",
      "Genre: Drama, Romance\n",
      "Director: James Cameron\n",
      "Writer: James Cameron\n",
      "Actors: Leonardo DiCaprio, Kate Winslet, Billy Zane, Kathy Bates\n",
      "Plot: A seventeen-year-old aristocrat falls in love with a kind but poor artist aboard the luxurious, ill-fated R.M.S. Titanic.\n",
      "Language: English, Swedish, Italian, French\n",
      "Country: USA, Mexico\n",
      "Awards: Won 11 Oscars. Another 112 wins & 83 nominations.\n",
      "Ratings: [{'Source': 'Internet Movie Database', 'Value': '7.8/10'}, {'Source': 'Rotten Tomatoes', 'Value': '89%'}, {'Source': 'Metacritic', 'Value': '75/100'}]\n",
      "Metascore: 75\n",
      "imdbRating: 7.8\n",
      "imdbVotes: 1,048,704\n",
      "imdbID: tt0120338\n",
      "--------------------------------------------------\n"
     ]
    }
   ],
   "source": [
    "search_movie(\"'Titanic'\")"
   ]
  },
  {
   "cell_type": "markdown",
   "metadata": {},
   "source": [
    "### 11. Test `search_movie` function by entering \"*Random_error*\" (obviously this will not be found and you should be able to check whether your error catching code is working properly)"
   ]
  },
  {
   "cell_type": "code",
   "execution_count": 44,
   "metadata": {},
   "outputs": [
    {
     "name": "stdout",
     "output_type": "stream",
     "text": [
      "Retrieving the data of \"'Random_error'\" now... \n",
      "http://www.omdbapi.com/?t=%27Random_error%27&apikey=b742e81f\n",
      "Error encountered:  Movie not found!\n"
     ]
    }
   ],
   "source": [
    "search_movie(\"'Random_error'\")"
   ]
  },
  {
   "cell_type": "markdown",
   "metadata": {},
   "source": [
    "### Look for a folder called 'Posters' in the same directory you are working in. It should contain a file called 'Titanic.jpg'. Open and see if the poster came alright!"
   ]
  },
  {
   "cell_type": "code",
   "execution_count": 84,
   "metadata": {},
   "outputs": [],
   "source": [
    "# The poster has been downloaded and saved as expected"
   ]
  },
  {
   "cell_type": "markdown",
   "metadata": {},
   "source": [
    "## Activity 3. Connect to the Twitter API and do a simple data pull\n",
    "\n",
    "### a. If you don’t have a twitter account – create one at twitter.com/signup (you can delete the account after this assignment)\n",
    "\n",
    "### b. Sign in to apps.twitter.com\n",
    "\n",
    "### c. Click “Create New App”\n",
    "\n",
    "### d. Give your app a name and description\n",
    "\n",
    "### e. Agree to the developer agreement – you will want to make sure to indicate this is for a class project, and this step can take several days to get through, so don’t wait until last minute to complete this portion of the assignment\n",
    "\n",
    "### f. Create an access token\n",
    "\n",
    "### g. You should receive a consumer key and a token\n",
    "\n",
    "### h. Using either the instructions from the book on connecting to an API or for help look here – pull back data searching for “Bellevue University” and “Data Science” (or something else you are interested in)\n",
    "\n",
    "#### i. How to Create a Twitter App and API Interface via Python. (Grogan, 2016)\n",
    "\n",
    "#### ii. Welcome Python-Twitter’s Documentation!  (The Python-Twitter Developers, 2016)\n"
   ]
  },
  {
   "cell_type": "code",
   "execution_count": 4,
   "metadata": {
    "scrolled": true
   },
   "outputs": [
    {
     "name": "stdout",
     "output_type": "stream",
     "text": [
      "\u001b[31mERROR: Could not find a version that satisfies the requirement python (from versions: none)\u001b[0m\n",
      "\u001b[31mERROR: No matching distribution found for python\u001b[0m\n",
      "Note: you may need to restart the kernel to use updated packages.\n"
     ]
    }
   ],
   "source": [
    "pip install python twitter"
   ]
  },
  {
   "cell_type": "code",
   "execution_count": 5,
   "metadata": {
    "scrolled": true
   },
   "outputs": [
    {
     "ename": "ModuleNotFoundError",
     "evalue": "No module named 'tweepy'",
     "output_type": "error",
     "traceback": [
      "\u001b[0;31m---------------------------------------------------------------------------\u001b[0m",
      "\u001b[0;31mModuleNotFoundError\u001b[0m                       Traceback (most recent call last)",
      "\u001b[0;32m<ipython-input-5-0037551856d6>\u001b[0m in \u001b[0;36m<module>\u001b[0;34m\u001b[0m\n\u001b[0;32m----> 1\u001b[0;31m \u001b[0;32mimport\u001b[0m \u001b[0mtweepy\u001b[0m \u001b[0;32mas\u001b[0m \u001b[0mtw\u001b[0m\u001b[0;34m\u001b[0m\u001b[0;34m\u001b[0m\u001b[0m\n\u001b[0m",
      "\u001b[0;31mModuleNotFoundError\u001b[0m: No module named 'tweepy'"
     ]
    }
   ],
   "source": [
    " import twitter"
   ]
  },
  {
   "cell_type": "code",
   "execution_count": null,
   "metadata": {},
   "outputs": [],
   "source": [
    "\n",
    "api = twitter.Api(consumer_key='your_consumer_key',\n",
    "  consumer_secret='your_consumer_secret',\n",
    "    access_token_key='your_access_token_key',\n",
    "    access_token_secret='your_access_token_secret')"
   ]
  },
  {
   "cell_type": "code",
   "execution_count": null,
   "metadata": {},
   "outputs": [],
   "source": [
    "tweets = twitter.Cursor(api.search, q=\"#Bellevue University\", lang = \"en\", since = \"2020-01-01\"). items(5)\n",
    "tweets"
   ]
  },
  {
   "cell_type": "markdown",
   "metadata": {},
   "source": [
    "## Activity 4. Using one of the datasets provided in Weeks 7 & 8, or a dataset of your own, choose 3 of the following visualizations to complete. You must submit via PDF along with your code. You are free to use Matplotlib, Seaborn or another package if you prefer."
   ]
  },
  {
   "cell_type": "code",
   "execution_count": 89,
   "metadata": {},
   "outputs": [
    {
     "name": "stdout",
     "output_type": "stream",
     "text": [
      "/Users/astrid/Documents/GitHub/ThinkStats2/code\n"
     ]
    }
   ],
   "source": [
    "cd '/Users/astrid/Documents/GitHub/ThinkStats2/code'"
   ]
  },
  {
   "cell_type": "code",
   "execution_count": 92,
   "metadata": {},
   "outputs": [],
   "source": [
    "from __future__ import print_function, division\n",
    "\n",
    "%matplotlib inline\n",
    "\n",
    "import matplotlib.pyplot as plt\n",
    "plt.style.use('seaborn-whitegrid')\n",
    "import numpy as np\n",
    "\n",
    "import brfss\n",
    "\n",
    "import thinkstats2\n",
    "import thinkplot"
   ]
  },
  {
   "cell_type": "code",
   "execution_count": 99,
   "metadata": {},
   "outputs": [],
   "source": [
    "df = brfss.ReadBrfss(nrows=None)"
   ]
  },
  {
   "cell_type": "markdown",
   "metadata": {},
   "source": [
    "The following function selects a random subset of a `DataFrame`."
   ]
  },
  {
   "cell_type": "code",
   "execution_count": 100,
   "metadata": {},
   "outputs": [],
   "source": [
    "def SampleRows(df, nrows, replace=False):\n",
    "    indices = np.random.choice(df.index, nrows, replace=replace)\n",
    "    sample = df.loc[indices]\n",
    "    return sample"
   ]
  },
  {
   "cell_type": "markdown",
   "metadata": {},
   "source": [
    "I'll extract the height in cm and the weight in kg of the respondents in the sample."
   ]
  },
  {
   "cell_type": "code",
   "execution_count": 104,
   "metadata": {},
   "outputs": [],
   "source": [
    "sample = SampleRows(df, 50)\n",
    "heights, weights = sample.htm3, sample.wtkg2"
   ]
  },
  {
   "cell_type": "markdown",
   "metadata": {},
   "source": [
    "### a. Line"
   ]
  },
  {
   "cell_type": "code",
   "execution_count": 105,
   "metadata": {},
   "outputs": [
    {
     "data": {
      "text/plain": [
       "[<matplotlib.lines.Line2D at 0x7fae58219b80>]"
      ]
     },
     "execution_count": 105,
     "metadata": {},
     "output_type": "execute_result"
    },
    {
     "data": {
      "image/png": "[encoded data removed]",
      "text/plain": [
       "<Figure size 432x288 with 1 Axes>"
      ]
     },
     "metadata": {},
     "output_type": "display_data"
    }
   ],
   "source": [
    "plt.plot(heights, linestyle='solid')"
   ]
  },
  {
   "cell_type": "markdown",
   "metadata": {},
   "source": [
    "### b. Scatter"
   ]
  },
  {
   "cell_type": "code",
   "execution_count": 106,
   "metadata": {},
   "outputs": [
    {
     "data": {
      "image/png": "[encoded data removed]",
      "text/plain": [
       "<Figure size 432x288 with 1 Axes>"
      ]
     },
     "metadata": {},
     "output_type": "display_data"
    }
   ],
   "source": [
    "thinkplot.Scatter(heights, weights, alpha=1)\n",
    "thinkplot.Config(xlabel='Height (cm)',\n",
    "                 ylabel='Weight (kg)',\n",
    "                 axis=[140, 210, 20, 200],\n",
    "                 legend=False)"
   ]
  },
  {
   "cell_type": "markdown",
   "metadata": {},
   "source": [
    "### d. Histogram"
   ]
  },
  {
   "cell_type": "code",
   "execution_count": 110,
   "metadata": {},
   "outputs": [
    {
     "data": {
      "text/plain": [
       "(array([ 8., 12., 13., 10.,  3.,  0.,  3.]),\n",
       " array([152.        , 159.28571429, 166.57142857, 173.85714286,\n",
       "        181.14285714, 188.42857143, 195.71428571, 203.        ]),\n",
       " <BarContainer object of 7 artists>)"
      ]
     },
     "execution_count": 110,
     "metadata": {},
     "output_type": "execute_result"
    },
    {
     "data": {
      "image/png": "[encoded data removed]",
      "text/plain": [
       "<Figure size 432x288 with 1 Axes>"
      ]
     },
     "metadata": {},
     "output_type": "display_data"
    }
   ],
   "source": [
    "plt.hist(x=heights, bins='auto', color='#0504aa', alpha=0.7, rwidth=0.85)"
   ]
  }
 ],
 "metadata": {
  "kernelspec": {
   "display_name": "Python 3",
   "language": "python",
   "name": "python3"
  },
  "language_info": {
   "codemirror_mode": {
    "name": "ipython",
    "version": 3
   },
   "file_extension": ".py",
   "mimetype": "text/x-python",
   "name": "python",
   "nbconvert_exporter": "python",
   "pygments_lexer": "ipython3",
   "version": "3.8.5"
  },
  "latex_envs": {
   "LaTeX_envs_menu_present": true,
   "autoclose": false,
   "autocomplete": true,
   "bibliofile": "biblio.bib",
   "cite_by": "apalike",
   "current_citInitial": 1,
   "eqLabelWithNumbers": true,
   "eqNumInitial": 1,
   "hotkeys": {
    "equation": "Ctrl-E",
    "itemize": "Ctrl-I"
   },
   "labels_anchors": false,
   "latex_user_defs": false,
   "report_style_numbering": false,
   "user_envs_cfg": false
  }
 },
 "nbformat": 4,
 "nbformat_minor": 2
}
