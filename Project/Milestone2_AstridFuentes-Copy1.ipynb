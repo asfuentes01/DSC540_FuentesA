{
 "cells": [
  {
   "cell_type": "markdown",
   "metadata": {},
   "source": [
    "# Project Milestone 2 : Cleaning/Formatting Flat File Source\n",
    "## DSC540\n",
    "### Astrid Fuentes\n",
    "\n",
    "Perform at least 5 data transformation and/or cleansing steps to your flat file data. For example:\n",
    "\n",
    "1. Replace Headers\n",
    "2. Format data into a more readable format\n",
    "3. Identify outliers and bad data\n",
    "4. Find duplicates\n",
    "5. Fix casing or inconsistent values\n",
    "6. Conduct Fuzzy Matching"
   ]
  },
  {
   "cell_type": "code",
   "execution_count": 353,
   "metadata": {},
   "outputs": [],
   "source": [
    "# Define the libraries\n",
    "import pandas as pd\n",
    "import os\n",
    "import pandas as pd\n",
    "import numpy as np\n",
    "import matplotlib.pyplot as plt\n",
    "\n",
    "%matplotlib inline"
   ]
  },
  {
   "cell_type": "code",
   "execution_count": 354,
   "metadata": {},
   "outputs": [],
   "source": [
    "path=\"/Users/astrid/Documents/GitHub/Data-Wrangling-with-Python/DS540/Project\"\n",
    "os.chdir(path)\n"
   ]
  },
  {
   "cell_type": "code",
   "execution_count": 355,
   "metadata": {},
   "outputs": [
    {
     "data": {
      "text/plain": [
       "'/Users/astrid/Documents/GitHub/Data-Wrangling-with-Python/DS540/Project'"
      ]
     },
     "execution_count": 355,
     "metadata": {},
     "output_type": "execute_result"
    }
   ],
   "source": [
    "os.getcwd()"
   ]
  },
  {
   "cell_type": "code",
   "execution_count": 356,
   "metadata": {},
   "outputs": [],
   "source": [
    "# Read the visit_data csv file using pandas' read_csv function\n",
    "df = pd.read_csv(\"covid19.csv\")"
   ]
  },
  {
   "cell_type": "code",
   "execution_count": 357,
   "metadata": {},
   "outputs": [
    {
     "data": {
      "text/html": [
       "<div>\n",
       "<style scoped>\n",
       "    .dataframe tbody tr th:only-of-type {\n",
       "        vertical-align: middle;\n",
       "    }\n",
       "\n",
       "    .dataframe tbody tr th {\n",
       "        vertical-align: top;\n",
       "    }\n",
       "\n",
       "    .dataframe thead th {\n",
       "        text-align: right;\n",
       "    }\n",
       "</style>\n",
       "<table border=\"1\" class=\"dataframe\">\n",
       "  <thead>\n",
       "    <tr style=\"text-align: right;\">\n",
       "      <th></th>\n",
       "      <th>Data as of</th>\n",
       "      <th>Start Date</th>\n",
       "      <th>End Date</th>\n",
       "      <th>State</th>\n",
       "      <th>Sex</th>\n",
       "      <th>Age group</th>\n",
       "      <th>COVID-19 Deaths</th>\n",
       "      <th>Total Deaths</th>\n",
       "      <th>Pneumonia Deaths</th>\n",
       "      <th>Pneumonia and COVID-19 Deaths</th>\n",
       "      <th>Influenza Deaths</th>\n",
       "      <th>Pneumonia, Influenza, or COVID-19 Deaths</th>\n",
       "      <th>Footnote</th>\n",
       "    </tr>\n",
       "  </thead>\n",
       "  <tbody>\n",
       "    <tr>\n",
       "      <th>0</th>\n",
       "      <td>01/21/2021</td>\n",
       "      <td>01/01/2020</td>\n",
       "      <td>01/16/2021</td>\n",
       "      <td>United States</td>\n",
       "      <td>All Sexes</td>\n",
       "      <td>All Ages</td>\n",
       "      <td>347131.0</td>\n",
       "      <td>3329907.0</td>\n",
       "      <td>331354.0</td>\n",
       "      <td>161474.0</td>\n",
       "      <td>8726.0</td>\n",
       "      <td>524629.0</td>\n",
       "      <td>NaN</td>\n",
       "    </tr>\n",
       "    <tr>\n",
       "      <th>1</th>\n",
       "      <td>01/21/2021</td>\n",
       "      <td>01/01/2020</td>\n",
       "      <td>01/16/2021</td>\n",
       "      <td>United States</td>\n",
       "      <td>All Sexes</td>\n",
       "      <td>Under 1 year</td>\n",
       "      <td>39.0</td>\n",
       "      <td>18436.0</td>\n",
       "      <td>193.0</td>\n",
       "      <td>6.0</td>\n",
       "      <td>21.0</td>\n",
       "      <td>247.0</td>\n",
       "      <td>NaN</td>\n",
       "    </tr>\n",
       "    <tr>\n",
       "      <th>2</th>\n",
       "      <td>01/21/2021</td>\n",
       "      <td>01/01/2020</td>\n",
       "      <td>01/16/2021</td>\n",
       "      <td>United States</td>\n",
       "      <td>All Sexes</td>\n",
       "      <td>0-17 years</td>\n",
       "      <td>165.0</td>\n",
       "      <td>32453.0</td>\n",
       "      <td>536.0</td>\n",
       "      <td>29.0</td>\n",
       "      <td>175.0</td>\n",
       "      <td>847.0</td>\n",
       "      <td>NaN</td>\n",
       "    </tr>\n",
       "    <tr>\n",
       "      <th>3</th>\n",
       "      <td>01/21/2021</td>\n",
       "      <td>01/01/2020</td>\n",
       "      <td>01/16/2021</td>\n",
       "      <td>United States</td>\n",
       "      <td>All Sexes</td>\n",
       "      <td>1-4 years</td>\n",
       "      <td>21.0</td>\n",
       "      <td>3388.0</td>\n",
       "      <td>120.0</td>\n",
       "      <td>3.0</td>\n",
       "      <td>59.0</td>\n",
       "      <td>197.0</td>\n",
       "      <td>NaN</td>\n",
       "    </tr>\n",
       "    <tr>\n",
       "      <th>4</th>\n",
       "      <td>01/21/2021</td>\n",
       "      <td>01/01/2020</td>\n",
       "      <td>01/16/2021</td>\n",
       "      <td>United States</td>\n",
       "      <td>All Sexes</td>\n",
       "      <td>5-14 years</td>\n",
       "      <td>58.0</td>\n",
       "      <td>5440.0</td>\n",
       "      <td>153.0</td>\n",
       "      <td>11.0</td>\n",
       "      <td>74.0</td>\n",
       "      <td>274.0</td>\n",
       "      <td>NaN</td>\n",
       "    </tr>\n",
       "  </tbody>\n",
       "</table>\n",
       "</div>"
      ],
      "text/plain": [
       "   Data as of  Start Date    End Date          State        Sex     Age group  \\\n",
       "0  01/21/2021  01/01/2020  01/16/2021  United States  All Sexes      All Ages   \n",
       "1  01/21/2021  01/01/2020  01/16/2021  United States  All Sexes  Under 1 year   \n",
       "2  01/21/2021  01/01/2020  01/16/2021  United States  All Sexes    0-17 years   \n",
       "3  01/21/2021  01/01/2020  01/16/2021  United States  All Sexes     1-4 years   \n",
       "4  01/21/2021  01/01/2020  01/16/2021  United States  All Sexes    5-14 years   \n",
       "\n",
       "   COVID-19 Deaths  Total Deaths  Pneumonia Deaths  \\\n",
       "0         347131.0     3329907.0          331354.0   \n",
       "1             39.0       18436.0             193.0   \n",
       "2            165.0       32453.0             536.0   \n",
       "3             21.0        3388.0             120.0   \n",
       "4             58.0        5440.0             153.0   \n",
       "\n",
       "   Pneumonia and COVID-19 Deaths  Influenza Deaths  \\\n",
       "0                       161474.0            8726.0   \n",
       "1                            6.0              21.0   \n",
       "2                           29.0             175.0   \n",
       "3                            3.0              59.0   \n",
       "4                           11.0              74.0   \n",
       "\n",
       "   Pneumonia, Influenza, or COVID-19 Deaths Footnote  \n",
       "0                                  524629.0      NaN  \n",
       "1                                     247.0      NaN  \n",
       "2                                     847.0      NaN  \n",
       "3                                     197.0      NaN  \n",
       "4                                     274.0      NaN  "
      ]
     },
     "execution_count": 357,
     "metadata": {},
     "output_type": "execute_result"
    }
   ],
   "source": [
    "df.head()"
   ]
  },
  {
   "cell_type": "markdown",
   "metadata": {},
   "source": [
    "## Rename columns"
   ]
  },
  {
   "cell_type": "code",
   "execution_count": 358,
   "metadata": {},
   "outputs": [],
   "source": [
    "# Rename columns\n",
    "df= df.rename(columns = {'Data as of': 'date_pulled','Start Date': 'start_date', 'End Date': 'end_date', \n",
    "                         'State': 'state', 'Sex': 'gender', 'Age group':'age_group',\n",
    "                         'COVID-19 Deaths': 'covid19_deaths',\n",
    "                         'Total Deaths': 'total_deaths', 'Pneumonia Deaths': 'pneumonia_deaths', \n",
    "                         'Pneumonia and COVID-19 Deaths': 'pneumonia_and_covid19_deaths', \n",
    "                         'Influenza Deaths': 'influenza_deaths', \n",
    "                         'Pneumonia, Influenza, or COVID-19 Deaths': 'pneumonia_influenza_covid19_deaths',\n",
    "                         'Footnote': 'footnote'}, inplace = False)"
   ]
  },
  {
   "cell_type": "code",
   "execution_count": 359,
   "metadata": {},
   "outputs": [
    {
     "data": {
      "text/html": [
       "<div>\n",
       "<style scoped>\n",
       "    .dataframe tbody tr th:only-of-type {\n",
       "        vertical-align: middle;\n",
       "    }\n",
       "\n",
       "    .dataframe tbody tr th {\n",
       "        vertical-align: top;\n",
       "    }\n",
       "\n",
       "    .dataframe thead th {\n",
       "        text-align: right;\n",
       "    }\n",
       "</style>\n",
       "<table border=\"1\" class=\"dataframe\">\n",
       "  <thead>\n",
       "    <tr style=\"text-align: right;\">\n",
       "      <th></th>\n",
       "      <th>date_pulled</th>\n",
       "      <th>start_date</th>\n",
       "      <th>end_date</th>\n",
       "      <th>state</th>\n",
       "      <th>gender</th>\n",
       "      <th>age_group</th>\n",
       "      <th>covid19_deaths</th>\n",
       "      <th>total_deaths</th>\n",
       "      <th>pneumonia_deaths</th>\n",
       "      <th>pneumonia_and_covid19_deaths</th>\n",
       "      <th>influenza_deaths</th>\n",
       "      <th>pneumonia_influenza_covid19_deaths</th>\n",
       "      <th>footnote</th>\n",
       "    </tr>\n",
       "  </thead>\n",
       "  <tbody>\n",
       "    <tr>\n",
       "      <th>0</th>\n",
       "      <td>01/21/2021</td>\n",
       "      <td>01/01/2020</td>\n",
       "      <td>01/16/2021</td>\n",
       "      <td>United States</td>\n",
       "      <td>All Sexes</td>\n",
       "      <td>All Ages</td>\n",
       "      <td>347131.0</td>\n",
       "      <td>3329907.0</td>\n",
       "      <td>331354.0</td>\n",
       "      <td>161474.0</td>\n",
       "      <td>8726.0</td>\n",
       "      <td>524629.0</td>\n",
       "      <td>NaN</td>\n",
       "    </tr>\n",
       "    <tr>\n",
       "      <th>1</th>\n",
       "      <td>01/21/2021</td>\n",
       "      <td>01/01/2020</td>\n",
       "      <td>01/16/2021</td>\n",
       "      <td>United States</td>\n",
       "      <td>All Sexes</td>\n",
       "      <td>Under 1 year</td>\n",
       "      <td>39.0</td>\n",
       "      <td>18436.0</td>\n",
       "      <td>193.0</td>\n",
       "      <td>6.0</td>\n",
       "      <td>21.0</td>\n",
       "      <td>247.0</td>\n",
       "      <td>NaN</td>\n",
       "    </tr>\n",
       "    <tr>\n",
       "      <th>2</th>\n",
       "      <td>01/21/2021</td>\n",
       "      <td>01/01/2020</td>\n",
       "      <td>01/16/2021</td>\n",
       "      <td>United States</td>\n",
       "      <td>All Sexes</td>\n",
       "      <td>0-17 years</td>\n",
       "      <td>165.0</td>\n",
       "      <td>32453.0</td>\n",
       "      <td>536.0</td>\n",
       "      <td>29.0</td>\n",
       "      <td>175.0</td>\n",
       "      <td>847.0</td>\n",
       "      <td>NaN</td>\n",
       "    </tr>\n",
       "    <tr>\n",
       "      <th>3</th>\n",
       "      <td>01/21/2021</td>\n",
       "      <td>01/01/2020</td>\n",
       "      <td>01/16/2021</td>\n",
       "      <td>United States</td>\n",
       "      <td>All Sexes</td>\n",
       "      <td>1-4 years</td>\n",
       "      <td>21.0</td>\n",
       "      <td>3388.0</td>\n",
       "      <td>120.0</td>\n",
       "      <td>3.0</td>\n",
       "      <td>59.0</td>\n",
       "      <td>197.0</td>\n",
       "      <td>NaN</td>\n",
       "    </tr>\n",
       "    <tr>\n",
       "      <th>4</th>\n",
       "      <td>01/21/2021</td>\n",
       "      <td>01/01/2020</td>\n",
       "      <td>01/16/2021</td>\n",
       "      <td>United States</td>\n",
       "      <td>All Sexes</td>\n",
       "      <td>5-14 years</td>\n",
       "      <td>58.0</td>\n",
       "      <td>5440.0</td>\n",
       "      <td>153.0</td>\n",
       "      <td>11.0</td>\n",
       "      <td>74.0</td>\n",
       "      <td>274.0</td>\n",
       "      <td>NaN</td>\n",
       "    </tr>\n",
       "  </tbody>\n",
       "</table>\n",
       "</div>"
      ],
      "text/plain": [
       "  date_pulled  start_date    end_date          state     gender     age_group  \\\n",
       "0  01/21/2021  01/01/2020  01/16/2021  United States  All Sexes      All Ages   \n",
       "1  01/21/2021  01/01/2020  01/16/2021  United States  All Sexes  Under 1 year   \n",
       "2  01/21/2021  01/01/2020  01/16/2021  United States  All Sexes    0-17 years   \n",
       "3  01/21/2021  01/01/2020  01/16/2021  United States  All Sexes     1-4 years   \n",
       "4  01/21/2021  01/01/2020  01/16/2021  United States  All Sexes    5-14 years   \n",
       "\n",
       "   covid19_deaths  total_deaths  pneumonia_deaths  \\\n",
       "0        347131.0     3329907.0          331354.0   \n",
       "1            39.0       18436.0             193.0   \n",
       "2           165.0       32453.0             536.0   \n",
       "3            21.0        3388.0             120.0   \n",
       "4            58.0        5440.0             153.0   \n",
       "\n",
       "   pneumonia_and_covid19_deaths  influenza_deaths  \\\n",
       "0                      161474.0            8726.0   \n",
       "1                           6.0              21.0   \n",
       "2                          29.0             175.0   \n",
       "3                           3.0              59.0   \n",
       "4                          11.0              74.0   \n",
       "\n",
       "   pneumonia_influenza_covid19_deaths footnote  \n",
       "0                            524629.0      NaN  \n",
       "1                               247.0      NaN  \n",
       "2                               847.0      NaN  \n",
       "3                               197.0      NaN  \n",
       "4                               274.0      NaN  "
      ]
     },
     "execution_count": 359,
     "metadata": {},
     "output_type": "execute_result"
    }
   ],
   "source": [
    "# See changes in column names\n",
    "df.head()"
   ]
  },
  {
   "cell_type": "code",
   "execution_count": 360,
   "metadata": {
    "scrolled": true
   },
   "outputs": [
    {
     "name": "stdout",
     "output_type": "stream",
     "text": [
      "['date_pulled', 'start_date', 'end_date', 'state', 'gender', 'age_group', 'covid19_deaths', 'total_deaths', 'pneumonia_deaths', 'pneumonia_and_covid19_deaths', 'influenza_deaths', 'pneumonia_influenza_covid19_deaths', 'footnote']\n"
     ]
    }
   ],
   "source": [
    "# Get column names to be used later\n",
    "col=df.columns.tolist()\n",
    "print(col)"
   ]
  },
  {
   "cell_type": "markdown",
   "metadata": {},
   "source": [
    "## Check for Nulls"
   ]
  },
  {
   "cell_type": "code",
   "execution_count": 361,
   "metadata": {},
   "outputs": [
    {
     "name": "stdout",
     "output_type": "stream",
     "text": [
      "True\n"
     ]
    }
   ],
   "source": [
    "## Rename columns# Check to see if there are nulls in any record in the data frame\n",
    "check_nan_in_df = df.isnull().values.any()\n",
    "print (check_nan_in_df)"
   ]
  },
  {
   "cell_type": "code",
   "execution_count": 362,
   "metadata": {
    "scrolled": false
   },
   "outputs": [
    {
     "name": "stdout",
     "output_type": "stream",
     "text": [
      "The column date_pulled contains NaN - False \n",
      "The column start_date contains NaN - False \n",
      "The column end_date contains NaN - False \n",
      "The column state contains NaN - False \n",
      "The column gender contains NaN - False \n",
      "The column age_group contains NaN - False \n",
      "The column covid19_deaths contains NaN - True \n",
      "The column total_deaths contains NaN - True \n",
      "The column pneumonia_deaths contains NaN - True \n",
      "The column pneumonia_and_covid19_deaths contains NaN - True \n",
      "The column influenza_deaths contains NaN - True \n",
      "The column pneumonia_influenza_covid19_deaths contains NaN - True \n",
      "The column footnote contains NaN - True \n"
     ]
    }
   ],
   "source": [
    "# Check for null values using isnull()\n",
    "print(\"The column date_pulled contains NaN - %s \" % df.date_pulled.isnull().values.any())\n",
    "print(\"The column start_date contains NaN - %s \" % df.start_date.isnull().values.any())\n",
    "print(\"The column end_date contains NaN - %s \" % df.end_date.isnull().values.any())\n",
    "print(\"The column state contains NaN - %s \" % df.state.isnull().values.any())\n",
    "print(\"The column gender contains NaN - %s \" % df.gender.isnull().values.any())\n",
    "print(\"The column age_group contains NaN - %s \" % df.age_group.isnull().values.any())\n",
    "print(\"The column covid19_deaths contains NaN - %s \" % df.covid19_deaths.isnull().values.any())\n",
    "print(\"The column total_deaths contains NaN - %s \" % df.total_deaths.isnull().values.any())\n",
    "print(\"The column pneumonia_deaths contains NaN - %s \" % df.pneumonia_deaths.isnull().values.any())\n",
    "print(\"The column pneumonia_and_covid19_deaths contains NaN - %s \" % df.pneumonia_and_covid19_deaths.isnull().values.any())\n",
    "print(\"The column influenza_deaths contains NaN - %s \" % df.influenza_deaths.isnull().values.any())\n",
    "print(\"The column pneumonia_influenza_covid19_deaths contains NaN - %s \" % df.pneumonia_influenza_covid19_deaths.isnull().values.any())\n",
    "print(\"The column footnote contains NaN - %s \" % df.footnote.isnull().values.any())"
   ]
  },
  {
   "cell_type": "markdown",
   "metadata": {},
   "source": [
    "Several columns contain nulls. I will remove some columns that I'm not interested in, for example \"footnote\". \n",
    "For other columns, like covid19_deaths I will have to treat the NaN differently."
   ]
  },
  {
   "cell_type": "markdown",
   "metadata": {},
   "source": [
    "## Check for Duplicates"
   ]
  },
  {
   "cell_type": "code",
   "execution_count": 365,
   "metadata": {
    "scrolled": false
   },
   "outputs": [
    {
     "name": "stdout",
     "output_type": "stream",
     "text": [
      "date_pulled is duplictaed - True\n",
      "start_date is duplictaed - True\n",
      "end_date is duplictaed - True\n",
      "state is duplictaed - True\n",
      "gender is duplictaed - True\n",
      "age_group is duplictaed - True\n",
      "covid19_deaths is duplictaed - True\n",
      "total_deaths is duplictaed - True\n",
      "pneumonia_deaths is duplictaed - True\n",
      "pneumonia_and_covid19_deaths is duplictaed - True\n",
      "influenza_deaths is duplictaed - True\n",
      "pneumonia_influenza_covid19_deaths is duplictaed - True\n",
      "footnote is duplictaed - True\n"
     ]
    }
   ],
   "source": [
    "# To identify duplicates we can use the duplicated() function\n",
    "print(\"date_pulled is duplictaed - {}\".format(any(df.date_pulled.duplicated())))\n",
    "print(\"start_date is duplictaed - {}\".format(any(df.start_date.duplicated())))\n",
    "print(\"end_date is duplictaed - {}\".format(any(df.end_date.duplicated())))\n",
    "print(\"state is duplictaed - {}\".format(any(df.state.duplicated())))\n",
    "print(\"gender is duplictaed - {}\".format(any(df.gender.duplicated())))\n",
    "print(\"age_group is duplictaed - {}\".format(any(df.age_group.duplicated())))\n",
    "print(\"covid19_deaths is duplictaed - {}\".format(any(df.covid19_deaths.duplicated())))\n",
    "print(\"total_deaths is duplictaed - {}\".format(any(df.total_deaths.duplicated())))\n",
    "print(\"pneumonia_deaths is duplictaed - {}\".format(any(df.pneumonia_deaths.duplicated())))\n",
    "print(\"pneumonia_and_covid19_deaths is duplictaed - {}\".format(any(df.pneumonia_and_covid19_deaths.duplicated())))\n",
    "print(\"influenza_deaths is duplictaed - {}\".format(any(df.influenza_deaths.duplicated())))\n",
    "print(\"pneumonia_influenza_covid19_deaths is duplictaed - {}\".format(any(df.pneumonia_influenza_covid19_deaths.duplicated())))\n",
    "print(\"footnote is duplictaed - {}\".format(any(df.footnote.duplicated())))"
   ]
  },
  {
   "cell_type": "markdown",
   "metadata": {},
   "source": [
    "All columns have duplicates within each column but I do not believe this is a problem at this time. \n",
    "Due to the nature of this data, until this is grouped by certain column values, there will be duplicates within the same column."
   ]
  },
  {
   "cell_type": "code",
   "execution_count": 366,
   "metadata": {},
   "outputs": [
    {
     "name": "stdout",
     "output_type": "stream",
     "text": [
      "False\n"
     ]
    }
   ],
   "source": [
    "# To identify duplicates across the whole data set we can use the duplicated() function as follows\n",
    "check_dups_in_df = df.duplicated().values.any()\n",
    "print(check_dups_in_df)"
   ]
  },
  {
   "cell_type": "markdown",
   "metadata": {},
   "source": [
    "## Drop columns not needed"
   ]
  },
  {
   "cell_type": "code",
   "execution_count": 367,
   "metadata": {},
   "outputs": [],
   "source": [
    "# Dro## Check for Nullsp columns we are not interested in\n",
    "df = df.drop(['date_pulled', 'footnote', 'pneumonia_deaths', 'pneumonia_and_covid19_deaths', 'influenza_deaths', 'pneumonia_influenza_covid19_deaths',], axis=1)"
   ]
  },
  {
   "cell_type": "markdown",
   "metadata": {},
   "source": [
    "## Drop rows with totals"
   ]
  },
  {
   "cell_type": "code",
   "execution_count": 368,
   "metadata": {},
   "outputs": [],
   "source": [
    "# We are not interested in the totals where state = United States \n",
    "# and gender = 'All Sexes' and age_group = 'All Ages'\n",
    "# so we will remove those rows\n",
    "df.drop(df.loc[df['state']=='United States'].index, inplace=True)\n",
    "df.drop(df.loc[df['gender']=='All Sexes'].index, inplace=True)\n",
    "df.drop(df.loc[df['age_group']=='All Ages'].index, inplace=True)"
   ]
  },
  {
   "cell_type": "code",
   "execution_count": 369,
   "metadata": {},
   "outputs": [
    {
     "data": {
      "text/html": [
       "<div>\n",
       "<style scoped>\n",
       "    .dataframe tbody tr th:only-of-type {\n",
       "        vertical-align: middle;\n",
       "    }\n",
       "\n",
       "    .dataframe tbody tr th {\n",
       "        vertical-align: top;\n",
       "    }\n",
       "\n",
       "    .dataframe thead th {\n",
       "        text-align: right;\n",
       "    }\n",
       "</style>\n",
       "<table border=\"1\" class=\"dataframe\">\n",
       "  <thead>\n",
       "    <tr style=\"text-align: right;\">\n",
       "      <th></th>\n",
       "      <th>start_date</th>\n",
       "      <th>end_date</th>\n",
       "      <th>state</th>\n",
       "      <th>gender</th>\n",
       "      <th>age_group</th>\n",
       "      <th>covid19_deaths</th>\n",
       "      <th>total_deaths</th>\n",
       "    </tr>\n",
       "  </thead>\n",
       "  <tbody>\n",
       "    <tr>\n",
       "      <th>66</th>\n",
       "      <td>01/01/2020</td>\n",
       "      <td>01/16/2021</td>\n",
       "      <td>Alabama</td>\n",
       "      <td>Male</td>\n",
       "      <td>Under 1 year</td>\n",
       "      <td>NaN</td>\n",
       "      <td>205.0</td>\n",
       "    </tr>\n",
       "    <tr>\n",
       "      <th>67</th>\n",
       "      <td>01/01/2020</td>\n",
       "      <td>01/16/2021</td>\n",
       "      <td>Alabama</td>\n",
       "      <td>Male</td>\n",
       "      <td>0-17 years</td>\n",
       "      <td>NaN</td>\n",
       "      <td>401.0</td>\n",
       "    </tr>\n",
       "    <tr>\n",
       "      <th>68</th>\n",
       "      <td>01/01/2020</td>\n",
       "      <td>01/16/2021</td>\n",
       "      <td>Alabama</td>\n",
       "      <td>Male</td>\n",
       "      <td>1-4 years</td>\n",
       "      <td>0.0</td>\n",
       "      <td>47.0</td>\n",
       "    </tr>\n",
       "    <tr>\n",
       "      <th>69</th>\n",
       "      <td>01/01/2020</td>\n",
       "      <td>01/16/2021</td>\n",
       "      <td>Alabama</td>\n",
       "      <td>Male</td>\n",
       "      <td>5-14 years</td>\n",
       "      <td>0.0</td>\n",
       "      <td>71.0</td>\n",
       "    </tr>\n",
       "    <tr>\n",
       "      <th>70</th>\n",
       "      <td>01/01/2020</td>\n",
       "      <td>01/16/2021</td>\n",
       "      <td>Alabama</td>\n",
       "      <td>Male</td>\n",
       "      <td>15-24 years</td>\n",
       "      <td>NaN</td>\n",
       "      <td>527.0</td>\n",
       "    </tr>\n",
       "  </tbody>\n",
       "</table>\n",
       "</div>"
      ],
      "text/plain": [
       "    start_date    end_date    state gender     age_group  covid19_deaths  \\\n",
       "66  01/01/2020  01/16/2021  Alabama   Male  Under 1 year             NaN   \n",
       "67  01/01/2020  01/16/2021  Alabama   Male    0-17 years             NaN   \n",
       "68  01/01/2020  01/16/2021  Alabama   Male     1-4 years             0.0   \n",
       "69  01/01/2020  01/16/2021  Alabama   Male    5-14 years             0.0   \n",
       "70  01/01/2020  01/16/2021  Alabama   Male   15-24 years             NaN   \n",
       "\n",
       "    total_deaths  \n",
       "66         205.0  \n",
       "67         401.0  \n",
       "68          47.0  \n",
       "69          71.0  \n",
       "70         527.0  "
      ]
     },
     "execution_count": 369,
     "metadata": {},
     "output_type": "execute_result"
    }
   ],
   "source": [
    "df.head()"
   ]
  },
  {
   "cell_type": "markdown",
   "metadata": {},
   "source": [
    "## Drop rows were both counts are null"
   ]
  },
  {
   "cell_type": "code",
   "execution_count": 370,
   "metadata": {},
   "outputs": [],
   "source": [
    "# Drop rows where both covid19_deaths and total_deaths are null since those provide no useful information for us.\n",
    "df.dropna(subset=['covid19_deaths', 'total_deaths'], how='all',inplace=True)"
   ]
  },
  {
   "cell_type": "code",
   "execution_count": 371,
   "metadata": {},
   "outputs": [
    {
     "data": {
      "text/html": [
       "<div>\n",
       "<style scoped>\n",
       "    .dataframe tbody tr th:only-of-type {\n",
       "        vertical-align: middle;\n",
       "    }\n",
       "\n",
       "    .dataframe tbody tr th {\n",
       "        vertical-align: top;\n",
       "    }\n",
       "\n",
       "    .dataframe thead th {\n",
       "        text-align: right;\n",
       "    }\n",
       "</style>\n",
       "<table border=\"1\" class=\"dataframe\">\n",
       "  <thead>\n",
       "    <tr style=\"text-align: right;\">\n",
       "      <th></th>\n",
       "      <th>start_date</th>\n",
       "      <th>end_date</th>\n",
       "      <th>state</th>\n",
       "      <th>gender</th>\n",
       "      <th>age_group</th>\n",
       "      <th>covid19_deaths</th>\n",
       "      <th>total_deaths</th>\n",
       "    </tr>\n",
       "  </thead>\n",
       "  <tbody>\n",
       "    <tr>\n",
       "      <th>66</th>\n",
       "      <td>01/01/2020</td>\n",
       "      <td>01/16/2021</td>\n",
       "      <td>Alabama</td>\n",
       "      <td>Male</td>\n",
       "      <td>Under 1 year</td>\n",
       "      <td>NaN</td>\n",
       "      <td>205.0</td>\n",
       "    </tr>\n",
       "    <tr>\n",
       "      <th>67</th>\n",
       "      <td>01/01/2020</td>\n",
       "      <td>01/16/2021</td>\n",
       "      <td>Alabama</td>\n",
       "      <td>Male</td>\n",
       "      <td>0-17 years</td>\n",
       "      <td>NaN</td>\n",
       "      <td>401.0</td>\n",
       "    </tr>\n",
       "    <tr>\n",
       "      <th>68</th>\n",
       "      <td>01/01/2020</td>\n",
       "      <td>01/16/2021</td>\n",
       "      <td>Alabama</td>\n",
       "      <td>Male</td>\n",
       "      <td>1-4 years</td>\n",
       "      <td>0.0</td>\n",
       "      <td>47.0</td>\n",
       "    </tr>\n",
       "    <tr>\n",
       "      <th>69</th>\n",
       "      <td>01/01/2020</td>\n",
       "      <td>01/16/2021</td>\n",
       "      <td>Alabama</td>\n",
       "      <td>Male</td>\n",
       "      <td>5-14 years</td>\n",
       "      <td>0.0</td>\n",
       "      <td>71.0</td>\n",
       "    </tr>\n",
       "    <tr>\n",
       "      <th>70</th>\n",
       "      <td>01/01/2020</td>\n",
       "      <td>01/16/2021</td>\n",
       "      <td>Alabama</td>\n",
       "      <td>Male</td>\n",
       "      <td>15-24 years</td>\n",
       "      <td>NaN</td>\n",
       "      <td>527.0</td>\n",
       "    </tr>\n",
       "  </tbody>\n",
       "</table>\n",
       "</div>"
      ],
      "text/plain": [
       "    start_date    end_date    state gender     age_group  covid19_deaths  \\\n",
       "66  01/01/2020  01/16/2021  Alabama   Male  Under 1 year             NaN   \n",
       "67  01/01/2020  01/16/2021  Alabama   Male    0-17 years             NaN   \n",
       "68  01/01/2020  01/16/2021  Alabama   Male     1-4 years             0.0   \n",
       "69  01/01/2020  01/16/2021  Alabama   Male    5-14 years             0.0   \n",
       "70  01/01/2020  01/16/2021  Alabama   Male   15-24 years             NaN   \n",
       "\n",
       "    total_deaths  \n",
       "66         205.0  \n",
       "67         401.0  \n",
       "68          47.0  \n",
       "69          71.0  \n",
       "70         527.0  "
      ]
     },
     "execution_count": 371,
     "metadata": {},
     "output_type": "execute_result"
    }
   ],
   "source": [
    "df.head()"
   ]
  },
  {
   "cell_type": "markdown",
   "metadata": {},
   "source": [
    "## Checking for outliers"
   ]
  },
  {
   "cell_type": "code",
   "execution_count": 372,
   "metadata": {},
   "outputs": [
    {
     "data": {
      "text/html": [
       "<div>\n",
       "<style scoped>\n",
       "    .dataframe tbody tr th:only-of-type {\n",
       "        vertical-align: middle;\n",
       "    }\n",
       "\n",
       "    .dataframe tbody tr th {\n",
       "        vertical-align: top;\n",
       "    }\n",
       "\n",
       "    .dataframe thead th {\n",
       "        text-align: right;\n",
       "    }\n",
       "</style>\n",
       "<table border=\"1\" class=\"dataframe\">\n",
       "  <thead>\n",
       "    <tr style=\"text-align: right;\">\n",
       "      <th></th>\n",
       "      <th>covid19_deaths</th>\n",
       "      <th>total_deaths</th>\n",
       "    </tr>\n",
       "  </thead>\n",
       "  <tbody>\n",
       "    <tr>\n",
       "      <th>count</th>\n",
       "      <td>2024.000000</td>\n",
       "      <td>2238.000000</td>\n",
       "    </tr>\n",
       "    <tr>\n",
       "      <th>mean</th>\n",
       "      <td>204.389822</td>\n",
       "      <td>1884.806524</td>\n",
       "    </tr>\n",
       "    <tr>\n",
       "      <th>std</th>\n",
       "      <td>544.575459</td>\n",
       "      <td>4530.105317</td>\n",
       "    </tr>\n",
       "    <tr>\n",
       "      <th>min</th>\n",
       "      <td>0.000000</td>\n",
       "      <td>0.000000</td>\n",
       "    </tr>\n",
       "    <tr>\n",
       "      <th>25%</th>\n",
       "      <td>0.000000</td>\n",
       "      <td>0.000000</td>\n",
       "    </tr>\n",
       "    <tr>\n",
       "      <th>50%</th>\n",
       "      <td>0.000000</td>\n",
       "      <td>186.500000</td>\n",
       "    </tr>\n",
       "    <tr>\n",
       "      <th>75%</th>\n",
       "      <td>114.250000</td>\n",
       "      <td>1476.250000</td>\n",
       "    </tr>\n",
       "    <tr>\n",
       "      <th>max</th>\n",
       "      <td>4511.000000</td>\n",
       "      <td>60231.000000</td>\n",
       "    </tr>\n",
       "  </tbody>\n",
       "</table>\n",
       "</div>"
      ],
      "text/plain": [
       "       covid19_deaths  total_deaths\n",
       "count     2024.000000   2238.000000\n",
       "mean       204.389822   1884.806524\n",
       "std        544.575459   4530.105317\n",
       "min          0.000000      0.000000\n",
       "25%          0.000000      0.000000\n",
       "50%          0.000000    186.500000\n",
       "75%        114.250000   1476.250000\n",
       "max       4511.000000  60231.000000"
      ]
     },
     "execution_count": 372,
     "metadata": {},
     "output_type": "execute_result"
    }
   ],
   "source": [
    "df.describe()"
   ]
  },
  {
   "cell_type": "code",
   "execution_count": 373,
   "metadata": {
    "scrolled": true
   },
   "outputs": [
    {
     "data": {
      "text/plain": [
       "<matplotlib.collections.PathCollection at 0x7faf87763e20>"
      ]
     },
     "execution_count": 373,
     "metadata": {},
     "output_type": "execute_result"
    },
    {
     "data": {
      "image/png": "[encoded data removed]",
      "text/plain": [
       "<Figure size 432x288 with 1 Axes>"
      ]
     },
     "metadata": {
      "needs_background": "light"
     },
     "output_type": "display_data"
    }
   ],
   "source": [
    "# Perform scatter plot of covid19_deaths per gender to look for potential outliers \n",
    "plt.scatter(df.gender, df.covid19_deaths)"
   ]
  },
  {
   "cell_type": "code",
   "execution_count": 374,
   "metadata": {
    "scrolled": true
   },
   "outputs": [
    {
     "data": {
      "text/plain": [
       "<matplotlib.collections.PathCollection at 0x7faf87381460>"
      ]
     },
     "execution_count": 374,
     "metadata": {},
     "output_type": "execute_result"
    },
    {
     "data": {
      "image/png": "[encoded data removed]",
      "text/plain": [
       "<Figure size 432x288 with 1 Axes>"
      ]
     },
     "metadata": {
      "needs_background": "light"
     },
     "output_type": "display_data"
    }
   ],
   "source": [
    "# Perform scatter plot of total_deaths per gender to look for potential outliers \n",
    "plt.scatter(df.gender, df.total_deaths)"
   ]
  },
  {
   "cell_type": "code",
   "execution_count": 419,
   "metadata": {},
   "outputs": [
    {
     "data": {
      "text/plain": [
       "<matplotlib.collections.PathCollection at 0x7faf887c5970>"
      ]
     },
     "execution_count": 419,
     "metadata": {},
     "output_type": "execute_result"
    },
    {
     "data": {
      "image/png": "[encoded data removed]",
      "text/plain": [
       "<Figure size 432x288 with 1 Axes>"
      ]
     },
     "metadata": {
      "needs_background": "light"
     },
     "output_type": "display_data"
    }
   ],
   "source": [
    "plt.scatter(df.state, df.total_deaths)"
   ]
  },
  {
   "cell_type": "markdown",
   "metadata": {},
   "source": [
    "## Fill in nulls with zero"
   ]
  },
  {
   "cell_type": "code",
   "execution_count": 432,
   "metadata": {},
   "outputs": [
    {
     "data": {
      "text/html": [
       "<div>\n",
       "<style scoped>\n",
       "    .dataframe tbody tr th:only-of-type {\n",
       "        vertical-align: middle;\n",
       "    }\n",
       "\n",
       "    .dataframe tbody tr th {\n",
       "        vertical-align: top;\n",
       "    }\n",
       "\n",
       "    .dataframe thead th {\n",
       "        text-align: right;\n",
       "    }\n",
       "</style>\n",
       "<table border=\"1\" class=\"dataframe\">\n",
       "  <thead>\n",
       "    <tr style=\"text-align: right;\">\n",
       "      <th></th>\n",
       "      <th>start_date</th>\n",
       "      <th>end_date</th>\n",
       "      <th>state</th>\n",
       "      <th>gender</th>\n",
       "      <th>age_group</th>\n",
       "      <th>covid19_deaths</th>\n",
       "      <th>total_deaths</th>\n",
       "    </tr>\n",
       "  </thead>\n",
       "  <tbody>\n",
       "    <tr>\n",
       "      <th>71</th>\n",
       "      <td>01/01/2020</td>\n",
       "      <td>01/16/2021</td>\n",
       "      <td>Alabama</td>\n",
       "      <td>Male</td>\n",
       "      <td>18-29 years</td>\n",
       "      <td>18.0</td>\n",
       "      <td>856.0</td>\n",
       "    </tr>\n",
       "    <tr>\n",
       "      <th>72</th>\n",
       "      <td>01/01/2020</td>\n",
       "      <td>01/16/2021</td>\n",
       "      <td>Alabama</td>\n",
       "      <td>Male</td>\n",
       "      <td>25-34 years</td>\n",
       "      <td>28.0</td>\n",
       "      <td>915.0</td>\n",
       "    </tr>\n",
       "    <tr>\n",
       "      <th>73</th>\n",
       "      <td>01/01/2020</td>\n",
       "      <td>01/16/2021</td>\n",
       "      <td>Alabama</td>\n",
       "      <td>Male</td>\n",
       "      <td>30-49 years</td>\n",
       "      <td>154.0</td>\n",
       "      <td>2787.0</td>\n",
       "    </tr>\n",
       "    <tr>\n",
       "      <th>74</th>\n",
       "      <td>01/01/2020</td>\n",
       "      <td>01/16/2021</td>\n",
       "      <td>Alabama</td>\n",
       "      <td>Male</td>\n",
       "      <td>35-44 years</td>\n",
       "      <td>67.0</td>\n",
       "      <td>1318.0</td>\n",
       "    </tr>\n",
       "    <tr>\n",
       "      <th>75</th>\n",
       "      <td>01/01/2020</td>\n",
       "      <td>01/16/2021</td>\n",
       "      <td>Alabama</td>\n",
       "      <td>Male</td>\n",
       "      <td>45-54 years</td>\n",
       "      <td>192.0</td>\n",
       "      <td>2369.0</td>\n",
       "    </tr>\n",
       "    <tr>\n",
       "      <th>...</th>\n",
       "      <td>...</td>\n",
       "      <td>...</td>\n",
       "      <td>...</td>\n",
       "      <td>...</td>\n",
       "      <td>...</td>\n",
       "      <td>...</td>\n",
       "      <td>...</td>\n",
       "    </tr>\n",
       "    <tr>\n",
       "      <th>2640</th>\n",
       "      <td>01/01/2020</td>\n",
       "      <td>01/16/2021</td>\n",
       "      <td>Puerto Rico</td>\n",
       "      <td>Female</td>\n",
       "      <td>50-64 years</td>\n",
       "      <td>114.0</td>\n",
       "      <td>1423.0</td>\n",
       "    </tr>\n",
       "    <tr>\n",
       "      <th>2641</th>\n",
       "      <td>01/01/2020</td>\n",
       "      <td>01/16/2021</td>\n",
       "      <td>Puerto Rico</td>\n",
       "      <td>Female</td>\n",
       "      <td>55-64 years</td>\n",
       "      <td>87.0</td>\n",
       "      <td>1112.0</td>\n",
       "    </tr>\n",
       "    <tr>\n",
       "      <th>2642</th>\n",
       "      <td>01/01/2020</td>\n",
       "      <td>01/16/2021</td>\n",
       "      <td>Puerto Rico</td>\n",
       "      <td>Female</td>\n",
       "      <td>65-74 years</td>\n",
       "      <td>127.0</td>\n",
       "      <td>2147.0</td>\n",
       "    </tr>\n",
       "    <tr>\n",
       "      <th>2643</th>\n",
       "      <td>01/01/2020</td>\n",
       "      <td>01/16/2021</td>\n",
       "      <td>Puerto Rico</td>\n",
       "      <td>Female</td>\n",
       "      <td>75-84 years</td>\n",
       "      <td>160.0</td>\n",
       "      <td>3525.0</td>\n",
       "    </tr>\n",
       "    <tr>\n",
       "      <th>2644</th>\n",
       "      <td>01/01/2020</td>\n",
       "      <td>01/16/2021</td>\n",
       "      <td>Puerto Rico</td>\n",
       "      <td>Female</td>\n",
       "      <td>85 years and over</td>\n",
       "      <td>144.0</td>\n",
       "      <td>5177.0</td>\n",
       "    </tr>\n",
       "  </tbody>\n",
       "</table>\n",
       "<p>903 rows × 7 columns</p>\n",
       "</div>"
      ],
      "text/plain": [
       "      start_date    end_date        state  gender          age_group  \\\n",
       "71    01/01/2020  01/16/2021      Alabama    Male        18-29 years   \n",
       "72    01/01/2020  01/16/2021      Alabama    Male        25-34 years   \n",
       "73    01/01/2020  01/16/2021      Alabama    Male        30-49 years   \n",
       "74    01/01/2020  01/16/2021      Alabama    Male        35-44 years   \n",
       "75    01/01/2020  01/16/2021      Alabama    Male        45-54 years   \n",
       "...          ...         ...          ...     ...                ...   \n",
       "2640  01/01/2020  01/16/2021  Puerto Rico  Female        50-64 years   \n",
       "2641  01/01/2020  01/16/2021  Puerto Rico  Female        55-64 years   \n",
       "2642  01/01/2020  01/16/2021  Puerto Rico  Female        65-74 years   \n",
       "2643  01/01/2020  01/16/2021  Puerto Rico  Female        75-84 years   \n",
       "2644  01/01/2020  01/16/2021  Puerto Rico  Female  85 years and over   \n",
       "\n",
       "      covid19_deaths  total_deaths  \n",
       "71              18.0         856.0  \n",
       "72              28.0         915.0  \n",
       "73             154.0        2787.0  \n",
       "74              67.0        1318.0  \n",
       "75             192.0        2369.0  \n",
       "...              ...           ...  \n",
       "2640           114.0        1423.0  \n",
       "2641            87.0        1112.0  \n",
       "2642           127.0        2147.0  \n",
       "2643           160.0        3525.0  \n",
       "2644           144.0        5177.0  \n",
       "\n",
       "[903 rows x 7 columns]"
      ]
     },
     "execution_count": 432,
     "metadata": {},
     "output_type": "execute_result"
    }
   ],
   "source": [
    "# Now we will fill in the reminder NaN's with 0.0. \n",
    "# In this case we are assuming that missing values in the counts means no cases were reported or confirmed.\n",
    "df.fillna(0)"
   ]
  },
  {
   "cell_type": "code",
   "execution_count": null,
   "metadata": {},
   "outputs": [],
   "source": []
  }
 ],
 "metadata": {
  "kernelspec": {
   "display_name": "Python 3",
   "language": "python",
   "name": "python3"
  },
  "language_info": {
   "codemirror_mode": {
    "name": "ipython",
    "version": 3
   },
   "file_extension": ".py",
   "mimetype": "text/x-python",
   "name": "python",
   "nbconvert_exporter": "python",
   "pygments_lexer": "ipython3",
   "version": "3.8.5"
  }
 },
 "nbformat": 4,
 "nbformat_minor": 4
}
